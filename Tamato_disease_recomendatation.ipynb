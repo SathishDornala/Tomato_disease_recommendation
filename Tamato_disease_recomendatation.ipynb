{
 "cells": [
  {
   "cell_type": "code",
   "execution_count": 1,
   "id": "7d3ee335-23ee-4ef1-ac28-838d4600c4c0",
   "metadata": {},
   "outputs": [],
   "source": [
    "import os\n",
    "import warnings\n",
    "import numpy as np\n",
    "import pandas as pd\n",
    "from tensorflow.keras.preprocessing.image import ImageDataGenerator\n",
    "from tensorflow.keras import layers, models\n",
    "from tensorflow.keras.preprocessing import image"
   ]
  },
  {
   "cell_type": "code",
   "execution_count": 2,
   "id": "587eb117-0d64-4374-8655-dc4f6cbcd060",
   "metadata": {},
   "outputs": [],
   "source": [
    "# Define the paths to the dataset\n",
    "train_dir = r'C:\\Users\\Sathish\\plant disease\\train'  \n",
    "val_dir = r'C:\\Users\\Sathish\\plant disease\\valid'  "
   ]
  },
  {
   "cell_type": "code",
   "execution_count": 3,
   "id": "f61e1876-7274-4046-999e-f6b836617e95",
   "metadata": {},
   "outputs": [],
   "source": [
    "# Data augmentation for training\n",
    "train_datagen = ImageDataGenerator(\n",
    "    rescale=1./255,\n",
    "    rotation_range=20,\n",
    "    zoom_range=0.2,\n",
    "    width_shift_range=0.2,\n",
    "    height_shift_range=0.2,\n",
    "    shear_range=0.2,\n",
    "    horizontal_flip=True\n",
    ")"
   ]
  },
  {
   "cell_type": "code",
   "execution_count": 4,
   "id": "ff200556-3e93-454b-ab0b-5d1087bc0565",
   "metadata": {},
   "outputs": [],
   "source": [
    "# For validation, just rescale\n",
    "val_datagen = ImageDataGenerator(rescale=1./255)"
   ]
  },
  {
   "cell_type": "code",
   "execution_count": 5,
   "id": "38cf3562-ecd2-451e-8b29-d61eb2245609",
   "metadata": {},
   "outputs": [
    {
     "name": "stdout",
     "output_type": "stream",
     "text": [
      "Found 9281 images belonging to 5 classes.\n"
     ]
    }
   ],
   "source": [
    "# Create generators for training and validation datasets\n",
    "train_generator = train_datagen.flow_from_directory(\n",
    "    train_dir,\n",
    "    target_size=(150, 150),\n",
    "    batch_size=32,\n",
    "    class_mode='categorical'\n",
    ")"
   ]
  },
  {
   "cell_type": "code",
   "execution_count": 6,
   "id": "13112587-46c1-4677-b48b-9e24539b366c",
   "metadata": {},
   "outputs": [
    {
     "name": "stdout",
     "output_type": "stream",
     "text": [
      "Found 2319 images belonging to 5 classes.\n"
     ]
    }
   ],
   "source": [
    "val_generator = val_datagen.flow_from_directory(\n",
    "    val_dir,\n",
    "    target_size=(150, 150),\n",
    "    batch_size=32,\n",
    "    class_mode='categorical'\n",
    ")"
   ]
  },
  {
   "cell_type": "code",
   "execution_count": 7,
   "id": "cb293ac4-e35f-42af-8d73-c7747f9e6d10",
   "metadata": {},
   "outputs": [
    {
     "name": "stdout",
     "output_type": "stream",
     "text": [
      "Number of classes: 5\n"
     ]
    }
   ],
   "source": [
    "# Check the number of classes\n",
    "num_classes = len(train_generator.class_indices)\n",
    "print(\"Number of classes:\", num_classes)"
   ]
  },
  {
   "cell_type": "code",
   "execution_count": 8,
   "id": "ba60298b-e5b9-4512-9149-c14262d754be",
   "metadata": {},
   "outputs": [
    {
     "name": "stderr",
     "output_type": "stream",
     "text": [
      "C:\\Users\\Sathish\\anaconda3\\Lib\\site-packages\\keras\\src\\layers\\convolutional\\base_conv.py:107: UserWarning: Do not pass an `input_shape`/`input_dim` argument to a layer. When using Sequential models, prefer using an `Input(shape)` object as the first layer in the model instead.\n",
      "  super().__init__(activity_regularizer=activity_regularizer, **kwargs)\n"
     ]
    }
   ],
   "source": [
    "# Define the model architecture\n",
    "model = models.Sequential([\n",
    "    layers.Conv2D(32, (3, 3), activation='relu', input_shape=(150, 150, 3)),\n",
    "    layers.MaxPooling2D(pool_size=(2, 2)),\n",
    "    layers.Conv2D(64, (3, 3), activation='relu'),\n",
    "    layers.MaxPooling2D(pool_size=(2, 2)),\n",
    "    layers.Conv2D(128, (3, 3), activation='relu'),\n",
    "    layers.MaxPooling2D(pool_size=(2, 2)),\n",
    "    layers.Flatten(),\n",
    "    layers.Dense(128, activation='relu'),\n",
    "    layers.Dense(num_classes, activation='softmax')  # Output layer matches number of classes\n",
    "])"
   ]
  },
  {
   "cell_type": "code",
   "execution_count": 9,
   "id": "8daf1179-0e74-408d-a8a1-e704275fe326",
   "metadata": {},
   "outputs": [],
   "source": [
    "# Compile the model\n",
    "model.compile(optimizer='adam', loss='categorical_crossentropy', metrics=['accuracy'])\n"
   ]
  },
  {
   "cell_type": "code",
   "execution_count": 14,
   "id": "bc7651d5-1dd0-44ce-adfa-59a3fb742947",
   "metadata": {},
   "outputs": [
    {
     "name": "stdout",
     "output_type": "stream",
     "text": [
      "Epoch 1/10\n"
     ]
    },
    {
     "name": "stderr",
     "output_type": "stream",
     "text": [
      "C:\\Users\\Sathish\\anaconda3\\Lib\\site-packages\\keras\\src\\trainers\\data_adapters\\py_dataset_adapter.py:122: UserWarning: Your `PyDataset` class should call `super().__init__(**kwargs)` in its constructor. `**kwargs` can include `workers`, `use_multiprocessing`, `max_queue_size`. Do not pass these arguments to `fit()`, as they will be ignored.\n",
      "  self._warn_if_super_not_called()\n"
     ]
    },
    {
     "name": "stdout",
     "output_type": "stream",
     "text": [
      "\u001b[1m290/290\u001b[0m \u001b[32m━━━━━━━━━━━━━━━━━━━━\u001b[0m\u001b[37m\u001b[0m \u001b[1m182s\u001b[0m 616ms/step - accuracy: 0.4319 - loss: 1.2746 - val_accuracy: 0.4557 - val_loss: 2.2866\n",
      "Epoch 2/10\n",
      "\u001b[1m290/290\u001b[0m \u001b[32m━━━━━━━━━━━━━━━━━━━━\u001b[0m\u001b[37m\u001b[0m \u001b[1m0s\u001b[0m 291us/step - accuracy: 0.6250 - loss: 1.0794 - val_accuracy: 0.8000 - val_loss: 1.0150\n",
      "Epoch 3/10\n"
     ]
    },
    {
     "name": "stderr",
     "output_type": "stream",
     "text": [
      "C:\\Users\\Sathish\\anaconda3\\Lib\\contextlib.py:155: UserWarning: Your input ran out of data; interrupting training. Make sure that your dataset or generator can generate at least `steps_per_epoch * epochs` batches. You may need to use the `.repeat()` function when building your dataset.\n",
      "  self.gen.throw(typ, value, traceback)\n"
     ]
    },
    {
     "name": "stdout",
     "output_type": "stream",
     "text": [
      "\u001b[1m290/290\u001b[0m \u001b[32m━━━━━━━━━━━━━━━━━━━━\u001b[0m\u001b[37m\u001b[0m \u001b[1m204s\u001b[0m 699ms/step - accuracy: 0.7454 - loss: 0.6622 - val_accuracy: 0.7279 - val_loss: 0.9995\n",
      "Epoch 4/10\n",
      "\u001b[1m290/290\u001b[0m \u001b[32m━━━━━━━━━━━━━━━━━━━━\u001b[0m\u001b[37m\u001b[0m \u001b[1m0s\u001b[0m 337us/step - accuracy: 0.9688 - loss: 0.2113 - val_accuracy: 0.8000 - val_loss: 0.9589\n",
      "Epoch 5/10\n",
      "\u001b[1m290/290\u001b[0m \u001b[32m━━━━━━━━━━━━━━━━━━━━\u001b[0m\u001b[37m\u001b[0m \u001b[1m194s\u001b[0m 660ms/step - accuracy: 0.8561 - loss: 0.3940 - val_accuracy: 0.8264 - val_loss: 0.6371\n",
      "Epoch 6/10\n",
      "\u001b[1m290/290\u001b[0m \u001b[32m━━━━━━━━━━━━━━━━━━━━\u001b[0m\u001b[37m\u001b[0m \u001b[1m0s\u001b[0m 261us/step - accuracy: 0.8438 - loss: 0.3145 - val_accuracy: 0.7333 - val_loss: 1.2698\n",
      "Epoch 7/10\n",
      "\u001b[1m290/290\u001b[0m \u001b[32m━━━━━━━━━━━━━━━━━━━━\u001b[0m\u001b[37m\u001b[0m \u001b[1m144s\u001b[0m 492ms/step - accuracy: 0.8807 - loss: 0.3275 - val_accuracy: 0.8585 - val_loss: 0.4724\n",
      "Epoch 8/10\n",
      "\u001b[1m290/290\u001b[0m \u001b[32m━━━━━━━━━━━━━━━━━━━━\u001b[0m\u001b[37m\u001b[0m \u001b[1m0s\u001b[0m 226us/step - accuracy: 0.8750 - loss: 0.3446 - val_accuracy: 0.8667 - val_loss: 0.1655\n",
      "Epoch 9/10\n",
      "\u001b[1m290/290\u001b[0m \u001b[32m━━━━━━━━━━━━━━━━━━━━\u001b[0m\u001b[37m\u001b[0m \u001b[1m141s\u001b[0m 480ms/step - accuracy: 0.9038 - loss: 0.2657 - val_accuracy: 0.7630 - val_loss: 1.3516\n",
      "Epoch 10/10\n",
      "\u001b[1m290/290\u001b[0m \u001b[32m━━━━━━━━━━━━━━━━━━━━\u001b[0m\u001b[37m\u001b[0m \u001b[1m0s\u001b[0m 220us/step - accuracy: 0.8125 - loss: 0.3640 - val_accuracy: 0.6667 - val_loss: 1.2624\n"
     ]
    }
   ],
   "source": [
    "history = model.fit(\n",
    "    train_generator,\n",
    "    validation_data=val_generator,\n",
    "    epochs=10,  # Adjust the number of epochs as needed\n",
    "    steps_per_epoch=train_generator.samples // 32,\n",
    "    validation_steps=val_generator.samples // 32\n",
    ")"
   ]
  },
  {
   "cell_type": "code",
   "execution_count": 19,
   "id": "c0dfaec7-d927-4640-a4de-e7abf93b4ff0",
   "metadata": {},
   "outputs": [
    {
     "name": "stderr",
     "output_type": "stream",
     "text": [
      "WARNING:absl:You are saving your model as an HDF5 file via `model.save()` or `keras.saving.save_model(model)`. This file format is considered legacy. We recommend using instead the native Keras format, e.g. `model.save('my_model.keras')` or `keras.saving.save_model(model, 'my_model.keras')`. \n"
     ]
    }
   ],
   "source": [
    "# Save the model (optional)\n",
    "model.save('tomato_disease_classifier.h5')"
   ]
  },
  {
   "cell_type": "code",
   "execution_count": 21,
   "id": "9b63b275-44c4-4616-ad7c-366064c309e3",
   "metadata": {},
   "outputs": [],
   "source": [
    "# dictionary for disease to pesticide recommendations\n",
    "pesticide_recommendations = {\n",
    "    'Tomato___Bacterial_spot': 'Use Copper-based fungicides',\n",
    "    'Tomato___Early_blight': 'Use Chlorothalonil or Azoxystrobin',\n",
    "    'Tomato___healthy': 'No pesticides needed',\n",
    "    'Tomato___Late_blight': 'Use Mancozeb or Ridomil',\n",
    "    'Tomato___Leaf_Mold': 'Use Potassium bicarbonate or Neem oil'\n",
    "}"
   ]
  },
  {
   "cell_type": "code",
   "execution_count": 22,
   "id": "ecbedb46-b9e4-4704-8f65-8dc210b639ac",
   "metadata": {},
   "outputs": [],
   "source": [
    "# Feature-based pesticide recommendation\n",
    "def get_pesticide_recommendation(features):\n",
    "    if features.get('spotting', 0) > 0.5 and features.get('blight_level', 0) < 0.3:\n",
    "        return \"Use Copper-based fungicides\"\n",
    "    elif features.get('blight_level', 0) > 0.7:\n",
    "        return \"Use Chlorothalonil or Azoxystrobin\"\n",
    "    elif features.get('leaf_health', 0) > 0.9:\n",
    "        return \"No pesticides needed\"\n",
    "    elif features.get('late_blight_indicator', 0) > 0.6:\n",
    "        return \"Use Mancozeb or Ridomil\"\n",
    "    elif features.get('mold_presence', 0) > 0.5:\n",
    "        return \"Use Potassium bicarbonate or Neem oil\"\n",
    "    else:\n",
    "        return \"No specific recommendation available\"\n"
   ]
  },
  {
   "cell_type": "code",
   "execution_count": 23,
   "id": "4c7475b6-e79e-48bf-a19c-dc0e5ffc3972",
   "metadata": {},
   "outputs": [],
   "source": [
    "# Hypothetical feature extraction function\n",
    "def extract_features(img_array):\n",
    "    # Placeholder for feature extraction logic, replace with actual feature extraction as needed\n",
    "    return {\n",
    "        'spotting': np.random.rand(),         # Replace with real extraction logic\n",
    "        'blight_level': np.random.rand(),\n",
    "        'leaf_health': np.random.rand(),\n",
    "        'late_blight_indicator': np.random.rand(),\n",
    "        'mold_presence': np.random.rand()\n",
    "    }"
   ]
  },
  {
   "cell_type": "code",
   "execution_count": 24,
   "id": "ca78f256-49af-4bc0-849c-5ac787a24845",
   "metadata": {},
   "outputs": [],
   "source": [
    "def recommend_pesticide(disease):\n",
    "    return pesticide_recommendations.get(disease, \"No recommendation available.\")\n",
    "\n",
    "def predict_and_recommend(image_path):\n",
    "    # Load and preprocess the image\n",
    "    img = image.load_img(image_path, target_size=(150, 150))\n",
    "    img_array = image.img_to_array(img) / 255.0\n",
    "    img_array = np.expand_dims(img_array, axis=0)\n",
    "    \n",
    "    # Make predictions\n",
    "    prediction = model.predict(img_array)\n",
    "    predicted_class = np.argmax(prediction, axis=1)\n",
    "    \n",
    "    # Print prediction probabilities for debugging\n",
    "    print(\"Prediction probabilities:\", prediction)\n",
    "    \n",
    "    # Map predicted class to disease name\n",
    "    disease_name = list(train_generator.class_indices.keys())[predicted_class[0]]\n",
    "    \n",
    "    # Get pesticide recommendation\n",
    "    pesticide = recommend_pesticide(disease_name)\n",
    "    \n",
    "    return disease_name, pesticide\n"
   ]
  },
  {
   "cell_type": "code",
   "execution_count": 25,
   "id": "106fbc08-ee3e-4e24-9a7f-a8ae6637d087",
   "metadata": {},
   "outputs": [
    {
     "name": "stdout",
     "output_type": "stream",
     "text": [
      "\u001b[1m1/1\u001b[0m \u001b[32m━━━━━━━━━━━━━━━━━━━━\u001b[0m\u001b[37m\u001b[0m \u001b[1m0s\u001b[0m 97ms/step\n",
      "Prediction probabilities: [[2.9516203e-12 1.1513952e-01 8.5376352e-01 1.9482749e-10 3.1096995e-02]]\n",
      "Detected Disease: Tomato___Late_blight\n",
      "Recommended Pesticide: Use Mancozeb or Ridomil\n"
     ]
    }
   ],
   "source": [
    "# Example usage\n",
    "image_path = r'C:\\Users\\Sathish\\plant disease\\valid\\Tomato___Late_blight\\1e5ba644-efeb-4bd3-b878-a0606cf8a992___RS_Late.B 6272_flipLR.JPG'  \n",
    "disease, pesticide = predict_and_recommend(image_path)\n",
    "print(f'Detected Disease: {disease}\\nRecommended Pesticide: {pesticide}')"
   ]
  },
  {
   "cell_type": "code",
   "execution_count": null,
   "id": "d677352a-354a-429f-8a7c-88c4102d80ec",
   "metadata": {},
   "outputs": [],
   "source": []
  },
  {
   "cell_type": "code",
   "execution_count": null,
   "id": "ead92a85-5730-45f9-a64a-c9213d700dc1",
   "metadata": {},
   "outputs": [],
   "source": []
  }
 ],
 "metadata": {
  "kernelspec": {
   "display_name": "Python 3 (ipykernel)",
   "language": "python",
   "name": "python3"
  },
  "language_info": {
   "codemirror_mode": {
    "name": "ipython",
    "version": 3
   },
   "file_extension": ".py",
   "mimetype": "text/x-python",
   "name": "python",
   "nbconvert_exporter": "python",
   "pygments_lexer": "ipython3",
   "version": "3.11.5"
  }
 },
 "nbformat": 4,
 "nbformat_minor": 5
}
